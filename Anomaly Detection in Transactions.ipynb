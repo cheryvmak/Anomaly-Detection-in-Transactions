{
 "cells": [
  {
   "cell_type": "code",
   "execution_count": 17,
   "id": "2b025ece",
   "metadata": {},
   "outputs": [
    {
     "name": "stdout",
     "output_type": "stream",
     "text": [
      "  Transaction_ID  Transaction_Amount  Transaction_Volume  \\\n",
      "0            TX0         1024.835708                   3   \n",
      "1            TX1         1013.952065                   4   \n",
      "2            TX2          970.956093                   1   \n",
      "3            TX3         1040.822254                   2   \n",
      "4            TX4          998.777241                   1   \n",
      "\n",
      "   Average_Transaction_Amount  Frequency_of_Transactions  \\\n",
      "0                  997.234714                         12   \n",
      "1                 1020.210306                          7   \n",
      "2                  989.496604                          5   \n",
      "3                  969.522480                         16   \n",
      "4                 1007.111026                          7   \n",
      "\n",
      "   Time_Since_Last_Transaction Day_of_Week Time_of_Day  Age  Gender   Income  \\\n",
      "0                           29      Friday       06:00   36    Male  1436074   \n",
      "1                           22      Friday       01:00   41  Female   627069   \n",
      "2                           12     Tuesday       21:00   61    Male   786232   \n",
      "3                           28      Sunday       14:00   61    Male   619030   \n",
      "4                            7      Friday       08:00   56  Female   649457   \n",
      "\n",
      "  Account_Type  \n",
      "0      Savings  \n",
      "1      Savings  \n",
      "2      Savings  \n",
      "3      Savings  \n",
      "4      Savings  \n"
     ]
    }
   ],
   "source": [
    "import pandas as pd\n",
    "import plotly.express as px\n",
    "from sklearn.model_selection import train_test_split\n",
    "from sklearn.ensemble import IsolationForest\n",
    "from sklearn.metrics import classification_report\n",
    "\n",
    "data = pd.read_csv(r\"C:\\Users\\USER\\Downloads\\transaction_anomalies_dataset.csv\")\n",
    "print(data.head())"
   ]
  },
  {
   "cell_type": "code",
   "execution_count": 18,
   "id": "28652a51",
   "metadata": {},
   "outputs": [
    {
     "name": "stdout",
     "output_type": "stream",
     "text": [
      "Transaction_ID                 0\n",
      "Transaction_Amount             0\n",
      "Transaction_Volume             0\n",
      "Average_Transaction_Amount     0\n",
      "Frequency_of_Transactions      0\n",
      "Time_Since_Last_Transaction    0\n",
      "Day_of_Week                    0\n",
      "Time_of_Day                    0\n",
      "Age                            0\n",
      "Gender                         0\n",
      "Income                         0\n",
      "Account_Type                   0\n",
      "dtype: int64\n"
     ]
    }
   ],
   "source": [
    "print(data.isnull().sum())"
   ]
  },
  {
   "cell_type": "code",
   "execution_count": 19,
   "id": "90ddb62e",
   "metadata": {},
   "outputs": [
    {
     "name": "stdout",
     "output_type": "stream",
     "text": [
      "<class 'pandas.core.frame.DataFrame'>\n",
      "RangeIndex: 1000 entries, 0 to 999\n",
      "Data columns (total 12 columns):\n",
      " #   Column                       Non-Null Count  Dtype  \n",
      "---  ------                       --------------  -----  \n",
      " 0   Transaction_ID               1000 non-null   object \n",
      " 1   Transaction_Amount           1000 non-null   float64\n",
      " 2   Transaction_Volume           1000 non-null   int64  \n",
      " 3   Average_Transaction_Amount   1000 non-null   float64\n",
      " 4   Frequency_of_Transactions    1000 non-null   int64  \n",
      " 5   Time_Since_Last_Transaction  1000 non-null   int64  \n",
      " 6   Day_of_Week                  1000 non-null   object \n",
      " 7   Time_of_Day                  1000 non-null   object \n",
      " 8   Age                          1000 non-null   int64  \n",
      " 9   Gender                       1000 non-null   object \n",
      " 10  Income                       1000 non-null   int64  \n",
      " 11  Account_Type                 1000 non-null   object \n",
      "dtypes: float64(2), int64(5), object(5)\n",
      "memory usage: 93.9+ KB\n",
      "None\n"
     ]
    }
   ],
   "source": [
    "print(data.info())"
   ]
  },
  {
   "cell_type": "code",
   "execution_count": 20,
   "id": "26648bd9",
   "metadata": {},
   "outputs": [
    {
     "name": "stdout",
     "output_type": "stream",
     "text": [
      "       Transaction_Amount  Transaction_Volume  Average_Transaction_Amount  \\\n",
      "count         1000.000000         1000.000000                 1000.000000   \n",
      "mean          1038.122511            2.498000                 1000.682506   \n",
      "std            283.580055            1.115006                   20.632334   \n",
      "min            849.024392            1.000000                  939.081423   \n",
      "25%            966.028796            1.000000                  986.800556   \n",
      "50%           1002.118678            3.000000                 1000.501902   \n",
      "75%           1033.143657            3.000000                 1015.155595   \n",
      "max           3227.459108            4.000000                 1073.154036   \n",
      "\n",
      "       Frequency_of_Transactions  Time_Since_Last_Transaction          Age  \\\n",
      "count                1000.000000                  1000.000000  1000.000000   \n",
      "mean                   12.078000                    15.341000    40.641000   \n",
      "std                     4.245225                     8.361258    13.819953   \n",
      "min                     5.000000                     1.000000    18.000000   \n",
      "25%                     8.000000                     8.000000    29.000000   \n",
      "50%                    12.000000                    16.000000    41.000000   \n",
      "75%                    16.000000                    22.000000    53.000000   \n",
      "max                    19.000000                    29.000000    64.000000   \n",
      "\n",
      "             Income  \n",
      "count  1.000000e+03  \n",
      "mean   8.948238e+05  \n",
      "std    3.453562e+05  \n",
      "min    3.001590e+05  \n",
      "25%    5.917308e+05  \n",
      "50%    8.876645e+05  \n",
      "75%    1.178102e+06  \n",
      "max    1.499670e+06  \n"
     ]
    }
   ],
   "source": [
    "print(data.describe())"
   ]
  },
  {
   "cell_type": "markdown",
   "id": "6efbfd6a",
   "metadata": {},
   "source": [
    "# Distribution of Transactions Amount in the Data"
   ]
  },
  {
   "cell_type": "code",
   "execution_count": 5,
   "id": "cacb8aea",
   "metadata": {},
   "outputs": [
    {
     "name": "stdout",
     "output_type": "stream",
     "text": [
      "Requirement already satisfied: plotly in c:\\users\\user\\anaconda3\\lib\\site-packages (6.0.0)Note: you may need to restart the kernel to use updated packages.\n"
     ]
    },
    {
     "name": "stderr",
     "output_type": "stream",
     "text": [
      "WARNING: Ignoring invalid distribution -tatsmodels (c:\\users\\user\\anaconda3\\lib\\site-packages)\n",
      "WARNING: Ignoring invalid distribution -ordcloud (c:\\users\\user\\anaconda3\\lib\\site-packages)\n",
      "WARNING: Ignoring invalid distribution -illow (c:\\users\\user\\anaconda3\\lib\\site-packages)\n",
      "WARNING: Ignoring invalid distribution -tatsmodels (c:\\users\\user\\anaconda3\\lib\\site-packages)\n",
      "WARNING: Ignoring invalid distribution -ordcloud (c:\\users\\user\\anaconda3\\lib\\site-packages)\n",
      "WARNING: Ignoring invalid distribution -illow (c:\\users\\user\\anaconda3\\lib\\site-packages)\n",
      "WARNING: Ignoring invalid distribution -tatsmodels (c:\\users\\user\\anaconda3\\lib\\site-packages)\n",
      "WARNING: Ignoring invalid distribution -ordcloud (c:\\users\\user\\anaconda3\\lib\\site-packages)\n",
      "WARNING: Ignoring invalid distribution -illow (c:\\users\\user\\anaconda3\\lib\\site-packages)\n",
      "WARNING: Ignoring invalid distribution -tatsmodels (c:\\users\\user\\anaconda3\\lib\\site-packages)\n",
      "WARNING: Ignoring invalid distribution -ordcloud (c:\\users\\user\\anaconda3\\lib\\site-packages)\n",
      "WARNING: Ignoring invalid distribution -illow (c:\\users\\user\\anaconda3\\lib\\site-packages)\n"
     ]
    },
    {
     "name": "stdout",
     "output_type": "stream",
     "text": [
      "\n",
      "Requirement already satisfied: packaging in c:\\users\\user\\anaconda3\\lib\\site-packages (from plotly) (24.2)\n",
      "Requirement already satisfied: narwhals>=1.15.1 in c:\\users\\user\\anaconda3\\lib\\site-packages (from plotly) (1.24.1)\n"
     ]
    },
    {
     "name": "stderr",
     "output_type": "stream",
     "text": [
      "WARNING: Ignoring invalid distribution -tatsmodels (c:\\users\\user\\anaconda3\\lib\\site-packages)\n",
      "WARNING: Ignoring invalid distribution -ordcloud (c:\\users\\user\\anaconda3\\lib\\site-packages)\n",
      "WARNING: Ignoring invalid distribution -illow (c:\\users\\user\\anaconda3\\lib\\site-packages)\n",
      "WARNING: Ignoring invalid distribution -tatsmodels (c:\\users\\user\\anaconda3\\lib\\site-packages)\n",
      "WARNING: Ignoring invalid distribution -ordcloud (c:\\users\\user\\anaconda3\\lib\\site-packages)\n",
      "WARNING: Ignoring invalid distribution -illow (c:\\users\\user\\anaconda3\\lib\\site-packages)\n"
     ]
    }
   ],
   "source": [
    "pip install plotly"
   ]
  },
  {
   "cell_type": "code",
   "execution_count": 21,
   "id": "248c0473",
   "metadata": {},
   "outputs": [],
   "source": [
    "import plotly.express as px"
   ]
  },
  {
   "cell_type": "code",
   "execution_count": null,
   "id": "1ef953d8",
   "metadata": {},
   "outputs": [],
   "source": [
    "# Distribution of Transaction Amount\n",
    "fig_amount = px.histogram(data, x='Transaction_Amount',\n",
    "                          nbins=10,\n",
    "                          title='Distribution of Transaction Amount')\n",
    "fig_amount.show()"
   ]
  },
  {
   "cell_type": "code",
   "execution_count": null,
   "id": "110f9796",
   "metadata": {},
   "outputs": [],
   "source": [
    "# Transaction Amount by Account Type\n",
    "fig_box_amount = px.box(data,\n",
    "                        x='Account_Type',\n",
    "                        y='Transaction_Amount',\n",
    "                        title='Transaction Amount by Account Type')\n",
    "fig_box_amount.show()"
   ]
  },
  {
   "cell_type": "code",
   "execution_count": null,
   "id": "d86526d1",
   "metadata": {},
   "outputs": [],
   "source": [
    "# Average Transaction Amount vs. Age\n",
    "fig_scatter_avg_amount_age = px.scatter(data, x='Age',\n",
    "                                        y='Average_Transaction_Amount',\n",
    "                                        color='Account_Type',\n",
    "                                        title='Average Transaction Amount vs. Age',\n",
    "                                        trendline='ols')\n",
    "fig_scatter_avg_amount_age.show()"
   ]
  },
  {
   "cell_type": "code",
   "execution_count": null,
   "id": "5366f0dd",
   "metadata": {},
   "outputs": [],
   "source": [
    "# Count of Transactions by Day of the Week\n",
    "fig_day_of_week = px.bar(data, x='Day_of_Week',\n",
    "                         title='Count of Transactions by Day of the Week')\n",
    "fig_day_of_week.show()"
   ]
  },
  {
   "cell_type": "code",
   "execution_count": null,
   "id": "5171391a",
   "metadata": {},
   "outputs": [],
   "source": [
    "# Correlation Heatmap\n",
    "correlation_matrix = data.corr()\n",
    "fig_corr_heatmap = px.imshow(correlation_matrix,\n",
    "                             title='Correlation Heatmap')\n",
    "fig_corr_heatmap.show()"
   ]
  },
  {
   "cell_type": "markdown",
   "id": "4360b707",
   "metadata": {},
   "source": [
    "# To visualize Anomalies in the data"
   ]
  },
  {
   "cell_type": "code",
   "execution_count": null,
   "id": "279a2d17",
   "metadata": {},
   "outputs": [],
   "source": [
    "# Calculate mean and standard deviation of Transaction Amount\n",
    "mean_amount = data['Transaction_Amount'].mean()\n",
    "std_amount = data['Transaction_Amount'].std()\n",
    "\n",
    "# Define the anomaly threshold (2 standard deviations from the mean)\n",
    "anomaly_threshold = mean_amount + 2 * std_amount\n",
    "\n",
    "# Flag anomalies\n",
    "data['Is_Anomaly'] = data['Transaction_Amount'] > anomaly_threshold\n",
    "\n",
    "# Scatter plot of Transaction Amount with anomalies highlighted\n",
    "fig_anomalies = px.scatter(data, x='Transaction_Amount', y='Average_Transaction_Amount',\n",
    "                           color='Is_Anomaly', title='Anomalies in Transaction Amount')\n",
    "fig_anomalies.update_traces(marker=dict(size=12), \n",
    "                            selector=dict(mode='markers', marker_size=1))\n",
    "fig_anomalies.show()"
   ]
  },
  {
   "cell_type": "markdown",
   "id": "68ae81d9",
   "metadata": {},
   "source": [
    "The number of anomalies in the data to find the ratio of anomalies in the data, which will be useful while using anomaly detection algorithms like isolation forest"
   ]
  },
  {
   "cell_type": "code",
   "execution_count": 13,
   "id": "48233b52",
   "metadata": {},
   "outputs": [
    {
     "name": "stdout",
     "output_type": "stream",
     "text": [
      "0.02\n"
     ]
    }
   ],
   "source": [
    "# Calculate the number of anomalies\n",
    "num_anomalies = data['Is_Anomaly'].sum()\n",
    "\n",
    "# Calculate the total number of instances in the dataset\n",
    "total_instances = data.shape[0]\n",
    "\n",
    "# Calculate the ratio of anomalies\n",
    "anomaly_ratio = num_anomalies / total_instances\n",
    "print(anomaly_ratio)"
   ]
  },
  {
   "cell_type": "markdown",
   "id": "cecd4fb8",
   "metadata": {},
   "source": [
    "# Machine Learning model for Detecting Anomalies"
   ]
  },
  {
   "cell_type": "code",
   "execution_count": 14,
   "id": "fb777b9f",
   "metadata": {},
   "outputs": [
    {
     "name": "stderr",
     "output_type": "stream",
     "text": [
      "C:\\Users\\USER\\anaconda3\\lib\\site-packages\\sklearn\\base.py:439: UserWarning:\n",
      "\n",
      "X does not have valid feature names, but IsolationForest was fitted with feature names\n",
      "\n"
     ]
    },
    {
     "data": {
      "text/html": [
       "<style>#sk-container-id-1 {color: black;background-color: white;}#sk-container-id-1 pre{padding: 0;}#sk-container-id-1 div.sk-toggleable {background-color: white;}#sk-container-id-1 label.sk-toggleable__label {cursor: pointer;display: block;width: 100%;margin-bottom: 0;padding: 0.3em;box-sizing: border-box;text-align: center;}#sk-container-id-1 label.sk-toggleable__label-arrow:before {content: \"▸\";float: left;margin-right: 0.25em;color: #696969;}#sk-container-id-1 label.sk-toggleable__label-arrow:hover:before {color: black;}#sk-container-id-1 div.sk-estimator:hover label.sk-toggleable__label-arrow:before {color: black;}#sk-container-id-1 div.sk-toggleable__content {max-height: 0;max-width: 0;overflow: hidden;text-align: left;background-color: #f0f8ff;}#sk-container-id-1 div.sk-toggleable__content pre {margin: 0.2em;color: black;border-radius: 0.25em;background-color: #f0f8ff;}#sk-container-id-1 input.sk-toggleable__control:checked~div.sk-toggleable__content {max-height: 200px;max-width: 100%;overflow: auto;}#sk-container-id-1 input.sk-toggleable__control:checked~label.sk-toggleable__label-arrow:before {content: \"▾\";}#sk-container-id-1 div.sk-estimator input.sk-toggleable__control:checked~label.sk-toggleable__label {background-color: #d4ebff;}#sk-container-id-1 div.sk-label input.sk-toggleable__control:checked~label.sk-toggleable__label {background-color: #d4ebff;}#sk-container-id-1 input.sk-hidden--visually {border: 0;clip: rect(1px 1px 1px 1px);clip: rect(1px, 1px, 1px, 1px);height: 1px;margin: -1px;overflow: hidden;padding: 0;position: absolute;width: 1px;}#sk-container-id-1 div.sk-estimator {font-family: monospace;background-color: #f0f8ff;border: 1px dotted black;border-radius: 0.25em;box-sizing: border-box;margin-bottom: 0.5em;}#sk-container-id-1 div.sk-estimator:hover {background-color: #d4ebff;}#sk-container-id-1 div.sk-parallel-item::after {content: \"\";width: 100%;border-bottom: 1px solid gray;flex-grow: 1;}#sk-container-id-1 div.sk-label:hover label.sk-toggleable__label {background-color: #d4ebff;}#sk-container-id-1 div.sk-serial::before {content: \"\";position: absolute;border-left: 1px solid gray;box-sizing: border-box;top: 0;bottom: 0;left: 50%;z-index: 0;}#sk-container-id-1 div.sk-serial {display: flex;flex-direction: column;align-items: center;background-color: white;padding-right: 0.2em;padding-left: 0.2em;position: relative;}#sk-container-id-1 div.sk-item {position: relative;z-index: 1;}#sk-container-id-1 div.sk-parallel {display: flex;align-items: stretch;justify-content: center;background-color: white;position: relative;}#sk-container-id-1 div.sk-item::before, #sk-container-id-1 div.sk-parallel-item::before {content: \"\";position: absolute;border-left: 1px solid gray;box-sizing: border-box;top: 0;bottom: 0;left: 50%;z-index: -1;}#sk-container-id-1 div.sk-parallel-item {display: flex;flex-direction: column;z-index: 1;position: relative;background-color: white;}#sk-container-id-1 div.sk-parallel-item:first-child::after {align-self: flex-end;width: 50%;}#sk-container-id-1 div.sk-parallel-item:last-child::after {align-self: flex-start;width: 50%;}#sk-container-id-1 div.sk-parallel-item:only-child::after {width: 0;}#sk-container-id-1 div.sk-dashed-wrapped {border: 1px dashed gray;margin: 0 0.4em 0.5em 0.4em;box-sizing: border-box;padding-bottom: 0.4em;background-color: white;}#sk-container-id-1 div.sk-label label {font-family: monospace;font-weight: bold;display: inline-block;line-height: 1.2em;}#sk-container-id-1 div.sk-label-container {text-align: center;}#sk-container-id-1 div.sk-container {/* jupyter's `normalize.less` sets `[hidden] { display: none; }` but bootstrap.min.css set `[hidden] { display: none !important; }` so we also need the `!important` here to be able to override the default hidden behavior on the sphinx rendered scikit-learn.org. See: https://github.com/scikit-learn/scikit-learn/issues/21755 */display: inline-block !important;position: relative;}#sk-container-id-1 div.sk-text-repr-fallback {display: none;}</style><div id=\"sk-container-id-1\" class=\"sk-top-container\"><div class=\"sk-text-repr-fallback\"><pre>IsolationForest(contamination=0.02, random_state=42)</pre><b>In a Jupyter environment, please rerun this cell to show the HTML representation or trust the notebook. <br />On GitHub, the HTML representation is unable to render, please try loading this page with nbviewer.org.</b></div><div class=\"sk-container\" hidden><div class=\"sk-item\"><div class=\"sk-estimator sk-toggleable\"><input class=\"sk-toggleable__control sk-hidden--visually\" id=\"sk-estimator-id-1\" type=\"checkbox\" checked><label for=\"sk-estimator-id-1\" class=\"sk-toggleable__label sk-toggleable__label-arrow\">IsolationForest</label><div class=\"sk-toggleable__content\"><pre>IsolationForest(contamination=0.02, random_state=42)</pre></div></div></div></div></div>"
      ],
      "text/plain": [
       "IsolationForest(contamination=0.02, random_state=42)"
      ]
     },
     "execution_count": 14,
     "metadata": {},
     "output_type": "execute_result"
    }
   ],
   "source": [
    "relevant_features = ['Transaction_Amount',\n",
    "                     'Average_Transaction_Amount',\n",
    "                     'Frequency_of_Transactions']\n",
    "\n",
    "# Split data into features (X) and target variable (y)\n",
    "X = data[relevant_features]\n",
    "y = data['Is_Anomaly']\n",
    "\n",
    "# Split data into train and test sets\n",
    "X_train, X_test, y_train, y_test = train_test_split(X, y, test_size=0.2, random_state=42)\n",
    "\n",
    "# Train the Isolation Forest model\n",
    "model = IsolationForest(contamination=0.02, random_state=42)\n",
    "model.fit(X_train)"
   ]
  },
  {
   "cell_type": "code",
   "execution_count": 15,
   "id": "6635141c",
   "metadata": {},
   "outputs": [
    {
     "name": "stdout",
     "output_type": "stream",
     "text": [
      "              precision    recall  f1-score   support\n",
      "\n",
      "      Normal       1.00      1.00      1.00       196\n",
      "     Anomaly       1.00      1.00      1.00         4\n",
      "\n",
      "    accuracy                           1.00       200\n",
      "   macro avg       1.00      1.00      1.00       200\n",
      "weighted avg       1.00      1.00      1.00       200\n",
      "\n"
     ]
    }
   ],
   "source": [
    "# Predict anomalies on the test set\n",
    "y_pred = model.predict(X_test)\n",
    "\n",
    "# Convert predictions to binary values (0: normal, 1: anomaly)\n",
    "y_pred_binary = [1 if pred == -1 else 0 for pred in y_pred]\n",
    "\n",
    "# Evaluate the model's performance\n",
    "report = classification_report(y_test, y_pred_binary, target_names=['Normal', 'Anomaly'])\n",
    "print(report)"
   ]
  },
  {
   "cell_type": "markdown",
   "id": "a31a2ca5",
   "metadata": {},
   "source": [
    "# To make use of our Trained model to detect anomalies"
   ]
  },
  {
   "cell_type": "code",
   "execution_count": 16,
   "id": "468bcfae",
   "metadata": {},
   "outputs": [
    {
     "name": "stdout",
     "output_type": "stream",
     "text": [
      "Enter the value for 'Transaction_Amount': 10000\n",
      "Enter the value for 'Average_Transaction_Amount': 900\n",
      "Enter the value for 'Frequency_of_Transactions': 6\n",
      "Anomaly detected: This transaction is flagged as an anomaly.\n"
     ]
    }
   ],
   "source": [
    "# Relevant features used during training\n",
    "relevant_features = ['Transaction_Amount', 'Average_Transaction_Amount', 'Frequency_of_Transactions']\n",
    "\n",
    "# Get user inputs for features\n",
    "user_inputs = []\n",
    "for feature in relevant_features:\n",
    "    user_input = float(input(f\"Enter the value for '{feature}': \"))\n",
    "    user_inputs.append(user_input)\n",
    "\n",
    "# Create a DataFrame from user inputs\n",
    "user_df = pd.DataFrame([user_inputs], columns=relevant_features)\n",
    "\n",
    "# Predict anomalies using the model\n",
    "user_anomaly_pred = model.predict(user_df)\n",
    "\n",
    "# Convert the prediction to binary value (0: normal, 1: anomaly)\n",
    "user_anomaly_pred_binary = 1 if user_anomaly_pred == -1 else 0\n",
    "\n",
    "if user_anomaly_pred_binary == 1:\n",
    "    print(\"Anomaly detected: This transaction is flagged as an anomaly.\")\n",
    "else:\n",
    "    print(\"No anomaly detected: This transaction is normal.\")"
   ]
  },
  {
   "cell_type": "code",
   "execution_count": null,
   "id": "7632b6ef",
   "metadata": {},
   "outputs": [],
   "source": []
  }
 ],
 "metadata": {
  "kernelspec": {
   "display_name": "Python 3 (ipykernel)",
   "language": "python",
   "name": "python3"
  },
  "language_info": {
   "codemirror_mode": {
    "name": "ipython",
    "version": 3
   },
   "file_extension": ".py",
   "mimetype": "text/x-python",
   "name": "python",
   "nbconvert_exporter": "python",
   "pygments_lexer": "ipython3",
   "version": "3.9.7"
  }
 },
 "nbformat": 4,
 "nbformat_minor": 5
}
